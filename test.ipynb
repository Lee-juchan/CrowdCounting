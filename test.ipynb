{
 "cells": [
  {
   "cell_type": "code",
   "execution_count": 1,
   "metadata": {},
   "outputs": [],
   "source": [
    "import pandas as pd\n",
    "import numpy as np"
   ]
  },
  {
   "cell_type": "code",
   "execution_count": 2,
   "metadata": {},
   "outputs": [],
   "source": [
    "import scipy\n",
    "import scipy.io\n",
    "import cv2\n",
    "\n",
    "from matplotlib import pyplot as plt\n",
    "\n",
    "from scipy.ndimage import gaussian_filter\n",
    "\n",
    "import torch\n",
    "import torch.nn as nn\n",
    "from torch.utils.data import DataLoader, Dataset\n",
    "\n",
    "from PIL import Image\n",
    "\n",
    "from pytorch_lightning import LightningModule, Trainer\n",
    "from pytorch_lightning import seed_everything\n",
    "\n",
    "import os"
   ]
  },
  {
   "cell_type": "code",
   "execution_count": 3,
   "metadata": {},
   "outputs": [],
   "source": [
    "from torchvision import transforms\n",
    "import albumentations as A\n",
    "from albumentations.pytorch import ToTensorV2"
   ]
  },
  {
   "cell_type": "code",
   "execution_count": 4,
   "metadata": {},
   "outputs": [],
   "source": [
    "im_size = 512\n",
    "aug_train = A.Compose([\n",
    "    A.RandomCrop(im_size, im_size),\n",
    "    A.HorizontalFlip(p=0.5),\n",
    "    A.RandomBrightnessContrast(),\n",
    "    A.Normalize((0.5), (0.5)),\n",
    "], keypoint_params=A.KeypointParams(format='xy', angle_in_degrees=False))\n",
    "\n",
    "aug_val = A.Compose([\n",
    "    A.Resize(768, 1024),\n",
    "    A.Normalize((0.5), (0.5)),\n",
    "], keypoint_params=A.KeypointParams(format='xy', angle_in_degrees=False))"
   ]
  },
  {
   "cell_type": "code",
   "execution_count": 5,
   "metadata": {},
   "outputs": [],
   "source": [
    "class MyDataset(Dataset):\n",
    "    def __init__(self, files, aug):\n",
    "        self.files = files\n",
    "        self.aug = aug\n",
    "        \n",
    "    def __len__(self):\n",
    "        return len(self.files)\n",
    "    \n",
    "    def __getitem__(self, idx):\n",
    "        fn = self.files[idx]\n",
    "        \n",
    "        im = cv2.imread(fn, cv2.IMREAD_COLOR)\n",
    "        im = cv2.cvtColor(im, cv2.COLOR_BGR2GRAY)\n",
    "        \n",
    "        m = scipy.io.loadmat(fn.replace('images', 'ground-truth').replace('IMG', 'GT_IMG').replace('.jpg', '.mat'))\n",
    "        ps = m['image_info'][0][0][0][0][0]\n",
    "        \n",
    "        rst = self.aug(image=im, keypoints=ps)\n",
    "        im = rst['image']\n",
    "        ps = rst['keypoints']\n",
    "        \n",
    "        dm = np.zeros((im.shape[0], im.shape[1]), dtype=np.float32)\n",
    "        for x, y in ps:\n",
    "            x = int(x)\n",
    "            y = int(y)\n",
    "            dm[y, x] = 1\n",
    "\n",
    "        sigma = 4\n",
    "        dm = gaussian_filter(dm, sigma=sigma, truncate=4*sigma)\n",
    "        \n",
    "        dm = cv2.resize(dm, (im.shape[1] // 4, im.shape[0] // 4), interpolation=cv2.INTER_LINEAR)\n",
    "        dm *= 16\n",
    "        \n",
    "        im = torch.from_numpy(im)\n",
    "        dm = torch.from_numpy(dm)\n",
    "        \n",
    "        return im, dm"
   ]
  },
  {
   "cell_type": "code",
   "execution_count": 6,
   "metadata": {},
   "outputs": [
    {
     "data": {
      "text/plain": [
       "(400, 64)"
      ]
     },
     "execution_count": 6,
     "metadata": {},
     "output_type": "execute_result"
    }
   ],
   "source": [
    "from sklearn.model_selection import train_test_split\n",
    "\n",
    "train = [p.path for p in os.scandir('ShanghaiTech/part_B/train_data/images/')]\n",
    "valid_full = [p.path for p in os.scandir('ShanghaiTech/part_B/test_data/images/')]\n",
    "\n",
    "## use a small subset for validation\n",
    "_, valid = train_test_split(valid_full, test_size=64, random_state=42)\n",
    "\n",
    "len(train), len(valid)"
   ]
  },
  {
   "cell_type": "code",
   "execution_count": 7,
   "metadata": {},
   "outputs": [
    {
     "ename": "NameError",
     "evalue": "name 'aug_val' is not defined",
     "output_type": "error",
     "traceback": [
      "\u001b[1;31m---------------------------------------------------------------------------\u001b[0m",
      "\u001b[1;31mNameError\u001b[0m                                 Traceback (most recent call last)",
      "Cell \u001b[1;32mIn[7], line 1\u001b[0m\n\u001b[1;32m----> 1\u001b[0m ds \u001b[38;5;241m=\u001b[39m MyDataset(valid, \u001b[43maug_val\u001b[49m)\n\u001b[0;32m      2\u001b[0m d \u001b[38;5;241m=\u001b[39m ds[\u001b[38;5;241m0\u001b[39m][\u001b[38;5;241m0\u001b[39m]\n\u001b[0;32m      3\u001b[0m plt\u001b[38;5;241m.\u001b[39mimshow(d, cmap\u001b[38;5;241m=\u001b[39m\u001b[38;5;124m'\u001b[39m\u001b[38;5;124mgray\u001b[39m\u001b[38;5;124m'\u001b[39m)\n",
      "\u001b[1;31mNameError\u001b[0m: name 'aug_val' is not defined"
     ]
    }
   ],
   "source": [
    "ds = MyDataset(valid, aug_val)\n",
    "d = ds[0][0]\n",
    "plt.imshow(d, cmap='gray')"
   ]
  },
  {
   "cell_type": "code",
   "execution_count": null,
   "metadata": {},
   "outputs": [],
   "source": [
    "class Conv2d(nn.Module):\n",
    "    def __init__(self, in_channels, out_channels, kernel_size, \\\n",
    "                stride=1, NL='relu', same_padding=False, bn=False, dilation=1):\n",
    "        super(Conv2d, self).__init__()\n",
    "        padding = int((kernel_size - 1) // 2) if same_padding else 0\n",
    "        self.conv = []\n",
    "        if dilation==1:\n",
    "            self.conv = nn.Conv2d(in_channels, out_channels, kernel_size, stride, padding=padding, dilation=dilation)\n",
    "        else:\n",
    "            self.conv = nn.Conv2d(in_channels, out_channels, kernel_size, stride, padding=dilation, dilation=dilation)\n",
    "        self.bn = nn.BatchNorm2d(out_channels, eps=0.001, momentum=0, affine=True) if bn else nn.Identity()\n",
    "        if NL == 'relu' :\n",
    "            self.relu = nn.ReLU(inplace=True)\n",
    "        elif NL == 'prelu':\n",
    "            self.relu = nn.PReLU()\n",
    "        else:\n",
    "            self.relu = None\n",
    "\n",
    "    def forward(self, x):\n",
    "        x = self.conv(x)\n",
    "        if self.bn is not None:\n",
    "            x = self.bn(x)\n",
    "        if self.relu is not None:\n",
    "            x = self.relu(x)\n",
    "        return x"
   ]
  },
  {
   "cell_type": "code",
   "execution_count": null,
   "metadata": {},
   "outputs": [],
   "source": [
    "class MCNN(LightningModule):\n",
    "    '''\n",
    "    Multi-column CNN \n",
    "        -Implementation of Single Image Crowd Counting via Multi-column CNN (Zhang et al.)\n",
    "    '''\n",
    "    \n",
    "    def __init__(self, lr, batch_size, max_steps, bn=False):\n",
    "        super(MCNN, self).__init__()\n",
    "        \n",
    "        self.lr = lr\n",
    "        self.save_hyperparameters()\n",
    "        \n",
    "        self.use = 0\n",
    "        \n",
    "        self.branch1 = nn.Sequential(Conv2d( 1, 16, 9, same_padding=True, bn=bn),\n",
    "                                     nn.MaxPool2d(2),\n",
    "                                     Conv2d(16, 32, 7, same_padding=True, bn=bn),\n",
    "                                     nn.MaxPool2d(2),\n",
    "                                     Conv2d(32, 16, 7, same_padding=True, bn=bn),\n",
    "                                     Conv2d(16,  8, 7, same_padding=True, bn=bn))\n",
    "        \n",
    "        self.branch2 = nn.Sequential(Conv2d( 1, 20, 7, same_padding=True, bn=bn),\n",
    "                                     nn.MaxPool2d(2),\n",
    "                                     Conv2d(20, 40, 5, same_padding=True, bn=bn),\n",
    "                                     nn.MaxPool2d(2),\n",
    "                                     Conv2d(40, 20, 5, same_padding=True, bn=bn),\n",
    "                                     Conv2d(20, 10, 5, same_padding=True, bn=bn))\n",
    "        \n",
    "        self.branch3 = nn.Sequential(Conv2d( 1, 24, 5, same_padding=True, bn=bn),\n",
    "                                     nn.MaxPool2d(2),\n",
    "                                     Conv2d(24, 48, 3, same_padding=True, bn=bn),\n",
    "                                     nn.MaxPool2d(2),\n",
    "                                     Conv2d(48, 24, 3, same_padding=True, bn=bn),\n",
    "                                     Conv2d(24, 12, 3, same_padding=True, bn=bn))\n",
    "        \n",
    "        self.fuse = nn.Sequential(Conv2d( 30, 1, 1, same_padding=True, bn=bn))\n",
    "        \n",
    "        self.out1 = nn.Sequential(Conv2d( 8, 1, 1, same_padding=True, bn=bn))\n",
    "        self.out2 = nn.Sequential(Conv2d( 10, 1, 1, same_padding=True, bn=bn))\n",
    "        self.out3 = nn.Sequential(Conv2d( 12, 1, 1, same_padding=True, bn=bn))\n",
    "        \n",
    "        self.crit = nn.MSELoss()\n",
    "        \n",
    "    def forward(self, im_data):\n",
    "        im_data = im_data.unsqueeze(1)\n",
    "        x1 = self.branch1(im_data)\n",
    "        x2 = self.branch2(im_data)\n",
    "        x3 = self.branch3(im_data)\n",
    "        \n",
    "        \n",
    "        if self.use == 0:\n",
    "            x = torch.cat((x1,x2,x3),1)\n",
    "            x = self.fuse(x)\n",
    "        elif self.use == 1:\n",
    "            x = self.out1(x1)\n",
    "        elif self.use == 2:\n",
    "            x = self.out2(x2)\n",
    "        elif self.use == 3:\n",
    "            x = self.out3(x3)\n",
    "        \n",
    "        return x.squeeze(1)\n",
    "    \n",
    "    \n",
    "    def training_step(self, batch, batch_idx):\n",
    "        self.train()\n",
    "        x, y = batch\n",
    "        \n",
    "        pred = self(x)\n",
    "        loss = self.crit(pred, y)\n",
    "        \n",
    "        pred_sum = torch.round(pred.sum(dim=(1,2))).int()\n",
    "        gt_sum = torch.round(y.sum(dim=(1,2))).int()\n",
    "        acc = (pred_sum == gt_sum).float().mean()\n",
    "        \n",
    "        mae = torch.abs(pred_sum - gt_sum).float().mean()\n",
    "        \n",
    "        self.log('train_loss', loss)\n",
    "        self.log('train_acc', acc)\n",
    "        self.log('train_mae', mae)\n",
    "        \n",
    "        return loss\n",
    "        \n",
    "    def validation_step(self, batch, batch_idx):\n",
    "        with torch.no_grad():\n",
    "            self.eval()\n",
    "            x, y = batch\n",
    "            \n",
    "            pred = self(x)\n",
    "            loss = self.crit(pred, y)\n",
    "        \n",
    "            pred_sum = torch.round(pred.sum(dim=(1,2))).int()\n",
    "            gt_sum = torch.round(y.sum(dim=(1,2))).int()\n",
    "            acc = (pred_sum == gt_sum).float().mean()\n",
    "\n",
    "            mae = torch.abs(pred_sum - gt_sum).float().mean()\n",
    "            \n",
    "            self.log('val_loss', loss)\n",
    "            self.log('val_acc', acc)\n",
    "            self.log('val_mae', mae)\n",
    "            \n",
    "            \n",
    "    def configure_optimizers(self):\n",
    "        optimizer = torch.optim.AdamW(self.parameters(), lr=self.lr, weight_decay=1e-4)\n",
    "        \n",
    "        scheduler = {\n",
    "            'scheduler': torch.optim.lr_scheduler.OneCycleLR(optimizer, max_lr=self.lr, total_steps=self.hparams.max_steps, pct_start=0.1, cycle_momentum=False),\n",
    "            'interval': 'step',\n",
    "            'frequency': 1\n",
    "        }\n",
    "        \n",
    "        return [optimizer], [scheduler]\n",
    "    \n",
    "    def train_dataloader(self):\n",
    "        return train_loader\n",
    "\n",
    "    def val_dataloader(self):\n",
    "        return val_loader"
   ]
  },
  {
   "cell_type": "code",
   "execution_count": null,
   "metadata": {},
   "outputs": [],
   "source": [
    "batch_size = 32\n",
    "epochs = 300\n",
    "max_steps = epochs * len(train) // batch_size"
   ]
  },
  {
   "cell_type": "code",
   "execution_count": null,
   "metadata": {},
   "outputs": [
    {
     "data": {
      "text/plain": [
       "<All keys matched successfully>"
      ]
     },
     "execution_count": 71,
     "metadata": {},
     "output_type": "execute_result"
    }
   ],
   "source": [
    "lr = 3e-4\n",
    "\n",
    "model = MCNN(lr, batch_size, max_steps)\n",
    "\n",
    "# 저장된 모델의 가중치를 불러옵니다.\n",
    "model.load_state_dict(torch.load('mcnn_model.pth'))"
   ]
  },
  {
   "cell_type": "code",
   "execution_count": null,
   "metadata": {},
   "outputs": [
    {
     "data": {
      "text/plain": [
       "<matplotlib.image.AxesImage at 0x20dc2bdc4c0>"
      ]
     },
     "execution_count": 72,
     "metadata": {},
     "output_type": "execute_result"
    },
    {
     "data": {
      "image/png": "[encoded data removed]",
      "text/plain": [
       "<Figure size 640x480 with 1 Axes>"
      ]
     },
     "metadata": {},
     "output_type": "display_data"
    }
   ],
   "source": [
    "plt.imshow(model(d.unsqueeze(0)).detach()[0])"
   ]
  }
 ],
 "metadata": {
  "kernelspec": {
   "display_name": "MCNN",
   "language": "python",
   "name": "python3"
  },
  "language_info": {
   "codemirror_mode": {
    "name": "ipython",
    "version": 3
   },
   "file_extension": ".py",
   "mimetype": "text/x-python",
   "name": "python",
   "nbconvert_exporter": "python",
   "pygments_lexer": "ipython3",
   "version": "3.8.18"
  }
 },
 "nbformat": 4,
 "nbformat_minor": 2
}
